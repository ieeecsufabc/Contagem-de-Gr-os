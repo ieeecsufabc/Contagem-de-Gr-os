{
 "cells": [
  {
   "cell_type": "markdown",
   "metadata": {},
   "source": [
    "### Testando um algoritmo de inteligência artificial para a otimização de parâmetros\n",
    "Ideia: \n",
    " * Escrever todos os parâmetros de cada filtro utilizado no processo como uma lista\n",
    " * Essa lista representa um estado\n",
    " * O estado é então testado para o conjunto de teste (base de dados contento imagens e contagens)\n",
    " * É determinado o erro (diferença entre resultado e número de grãos real) médio para cada estado\n",
    " * O algoritmo parte de um estado inicial, gera todos os seus vizinhos, e determina o erro médio para cada vizinho\n",
    " * Então, escolhe o vizinho de menor erro\n",
    " * Se este vizinho tiver erro menor que o estado inicial, ele é passado para a próxima iteraçao\n",
    " * Senão, ele substitui o atual com probabilidade 𝑒^(Δ𝐸/T), sendo Δ𝐸 a diferença entre a função-objetivo desse estado com o estado atual e uma 𝑇 a temperatura que é reduzida a cada iteração.\n",
    " * O comportamento inicial do algoritmo é de ser mais permissivo quanto a piora do estado mas, com o passar das iterações, ele tende a aceitar apenas estados que apresentam melhoras. \n",
    " * Se a temperatura for diminuída devagar o suficiente, esse algoritmo encontra o ótimo global com probabilidade se aproximando de 1\n",
    "\n",
    "Fonte do algoritmo Simulated Annealing:\n",
    "\n",
    "http://professor.ufabc.edu.br/~denis.fantinato/teaching/IA.html\n",
    "http://professor.ufabc.edu.br/~denis.fantinato/teaching/Aula09.pdf\n",
    "http://professor.ufabc.edu.br/~denis.fantinato/teaching/SimulatedAnnealing.py\n"
   ]
  },
  {
   "cell_type": "code",
   "execution_count": 1,
   "metadata": {},
   "outputs": [],
   "source": [
    "#Bibliotecas\n",
    "import cv2\n",
    "import numpy as np\n",
    "import matplotlib.pyplot as plt\n",
    "\n",
    "#Função de utilidade que gera um kernel redondo\n",
    "def getCircle(n):\n",
    "    '''kernel has size NxN'''\n",
    "    # xx and yy are 200x200 tables containing the x and y coordinates as values\n",
    "    # mgrid is a mesh creation helper\n",
    "    xx, yy = np.mgrid[:n,:n]\n",
    "    # circles contains the squared distance to the (100, 100) point\n",
    "    # we are just using the circle equation learnt at school\n",
    "    circle = (xx - np.floor(n/2)) ** 2 + (yy - np.floor(n/2)) ** 2\n",
    "    circle = circle<=np.max(circle)*.5\n",
    "    circle = np.uint8(circle)\n",
    "    return circle\n",
    "\n",
    "#Função de processamento principal\n",
    "def processing(img, parameters):\n",
    "    '''\n",
    "    parameters:\n",
    "    0 thresholdType = cv2.ADAPTIVE_THRESH_MEAN_C or cv2.ADAPTIVE_THRESH_GAUSSIAN_C\n",
    "    1 blockSize = 99-299\n",
    "    2 constant = 0-20\n",
    "    3 kernelSize = [3-7]\n",
    "    4 openingIt = 0-2\n",
    "    5 erosionIt = 0-5\n",
    "    6 contourMethod = cv2.CHAIN_APPROX_SIMPLE or cv2.CHAIN_APPROX_TC89_L1 or cv2.CHAIN_APPROX_TC89_KCOS \n",
    "    7 minArea = 15-50\n",
    "    \n",
    "    return img_contours, img_borders, img_colored, resultado, erro\n",
    "    '''\n",
    "    #Default parameters\n",
    "    if parameters == None:\n",
    "        parameters = [0,199,3,3,0,3,0,20]\n",
    "    \n",
    "    #Transformação do vetor de parâmetros em variáveis com nomes informativos\n",
    "    if parameters[0] == 0: thresholdType = cv2.ADAPTIVE_THRESH_MEAN_C\n",
    "    if parameters[0] == 1: thresholdType = cv2.ADAPTIVE_THRESH_GAUSSIAN_C\n",
    "    blockSize =  parameters[1]\n",
    "    constant =   parameters[2]\n",
    "    kernelSize = parameters[3]\n",
    "    openingIt =  parameters[4]\n",
    "    erosionIt =  parameters[5]\n",
    "    if parameters[6] == 0: contourMethod = cv2.CHAIN_APPROX_SIMPLE\n",
    "    if parameters[6] == 1: contourMethod = cv2.CHAIN_APPROX_TC89_L1\n",
    "    if parameters[6] == 2: contourMethod = cv2.CHAIN_APPROX_TC89_KCOS\n",
    "    minArea =    parameters[7]\n",
    "    \n",
    "    #Conversão de uma imagem para outro sistema de cores\n",
    "    img_gray = cv2.cvtColor(img,cv2.COLOR_BGR2GRAY)\n",
    "\n",
    "    #Adaptivo\n",
    "    img_thresh = cv2.adaptiveThreshold(img_gray, 255, thresholdType, cv2.THRESH_BINARY, blockSize, constant) \n",
    "\n",
    "    #Fechamento   \n",
    "    kernel = getCircle(kernelSize)\n",
    "    img_open = cv2.morphologyEx(img_thresh,cv2.MORPH_CLOSE,kernel, iterations = openingIt)\n",
    "    img_open = cv2.erode(img_open, kernel, iterations=erosionIt)\n",
    "\n",
    "    #Desenhando borda na imagem\n",
    "    y,x = img_open.shape\n",
    "    color = 0\n",
    "    img_open[:,   0] = 0; img_open[:, x-1] = 0; img_open[0,   :] = 0; img_open[y-1, :] = 0\n",
    "\n",
    "    #Gerando Lista de Contornos\n",
    "    cv2MajorVersion = cv2.__version__.split(\".\")[0]\n",
    "    if int(cv2MajorVersion) >= 4:\n",
    "        contours, _= cv2.findContours(img_open,cv2.RETR_EXTERNAL, contourMethod)\n",
    "    else:\n",
    "        _, contours, _ = cv2.findContours(img_open,cv2.RETR_EXTERNAL, contourMethod)\n",
    "\n",
    "    #Ordenando Lista de Contornos de acordo com a área\n",
    "    contours = sorted(contours, key = cv2.contourArea, reverse = True)\n",
    "\n",
    "    #Selecionando apenas contornos cuja área é maior que algum valor\n",
    "    contours = [c for c in contours if cv2.contourArea(c)>minArea]\n",
    "\n",
    "    #Desenhando Contornos na imagem original\n",
    "    verde = (0,255,0)\n",
    "    img_contours = cv2.drawContours(img.copy(), contours, -1, verde, 3)\n",
    "\n",
    "    #Separando grãos das bordas\n",
    "    faixa = 3\n",
    "    n_borda = 0\n",
    "    img_borders = np.int32(np.ones(img.shape))\n",
    "    red = [0,255,0]\n",
    "    blue = [255,0,0]\n",
    "    for c in contours:\n",
    "        (x_ini,y_ini,w,h) = cv2.boundingRect(c)\n",
    "        x_end = x_ini+w; y_end = y_ini+h\n",
    "        y_img, x_img = img_thresh.shape\n",
    "\n",
    "        if 0<x_ini<faixa or 0<y_ini<faixa or x_img-faixa<x_end<x_img or y_img-faixa<y_end<y_img:\n",
    "            n_borda +=1\n",
    "            random_red = [np.random.randint(20, 235) for i in range(3)]\n",
    "            random_red[0] = 255\n",
    "            img_borders = cv2.fillPoly(img_borders, [c], random_red)\n",
    "        else:\n",
    "            random_blue = [np.random.randint(20, 235) for i in range(3)]\n",
    "            random_blue[1] = 255\n",
    "            img_borders = cv2.fillPoly(img_borders, [c], random_blue)\n",
    "\n",
    "    #Preenchendo contornos\n",
    "    img_colored = np.int32(np.ones(img.shape))\n",
    "    img_out = img.copy()\n",
    "    for c in contours:\n",
    "        random_color = [np.random.randint(20, 235) for i in range(3)]\n",
    "        img_colored = cv2.fillPoly(img_colored, [c], random_color)\n",
    "        img_out = cv2.drawContours(img_out, [c], -1, random_color, 3)\n",
    "    \n",
    "    #resultados\n",
    "    resultado = len(contours)-round(n_borda/2)\n",
    "    \n",
    "    return img_contours, img_borders, img_colored, img_out, resultado"
   ]
  },
  {
   "cell_type": "code",
   "execution_count": 2,
   "metadata": {},
   "outputs": [],
   "source": [
    "#Construção de uma base de dados primitiva\n",
    "img1 = plt.imread('data/Aço224.jpg')\n",
    "img2 = plt.imread('data/Alu55.jpg')\n",
    "img3 = plt.imread('data/Alu205.jpg')\n",
    "images = [img1,img2,img3]\n",
    "counts = [224,55,205]"
   ]
  },
  {
   "cell_type": "code",
   "execution_count": 9,
   "metadata": {},
   "outputs": [
    {
     "name": "stdout",
     "output_type": "stream",
     "text": [
      "[16, 8, 251] 91.66666666666667\n"
     ]
    },
    {
     "data": {
      "text/plain": [
       "91.66666666666667"
      ]
     },
     "execution_count": 9,
     "metadata": {},
     "output_type": "execute_result"
    }
   ],
   "source": [
    "#Definindo função de custo cujo resultado deverá ser minimizado pelo algoritmo\n",
    "#   Essa função recebe um estado, processa na base de dados, \n",
    "#   calcula o erro do estado e retorna o erro médio\n",
    "def costFunction(parameters, show=False):\n",
    "    lista_erro = []\n",
    "    for img, realN in zip(images,counts):\n",
    "        \n",
    "        _,_,_,_,resultado= processing(img, parameters)\n",
    "        \n",
    "        erro = abs(realN-resultado)\n",
    "        \n",
    "        lista_erro.append(erro)\n",
    "    erro_medio = sum(lista_erro)/len(images)\n",
    "    if show: print(lista_erro, erro_medio)\n",
    "    return erro_medio\n",
    "\n",
    "costFunction(None,show=True)"
   ]
  },
  {
   "cell_type": "code",
   "execution_count": 10,
   "metadata": {},
   "outputs": [],
   "source": [
    "#0 thresholdType = cv2.ADAPTIVE_THRESH_MEAN_C or cv2.ADAPTIVE_THRESH_GAUSSIAN_C\n",
    "#1 blockSize = 99-299\n",
    "#2 constant = 0-20\n",
    "#3 kernelSize = [3-7]\n",
    "#4 openingIt = 0-2\n",
    "#5 erosionIt = 0-5\n",
    "#6 contourMethod = cv2.CHAIN_APPROX_SIMPLE or cv2.CHAIN_APPROX_TC89_L1 or cv2.CHAIN_APPROX_TC89_KCOS \n",
    "#7 minArea = 15-50\n",
    "#s0 = list(np.random.randint(1,9, size=8))\n",
    "\n",
    "#Função utilidade que testa se um estado está dentro das restrições de cada variável\n",
    "def checkRange(sol):\n",
    "    if not  0 <= sol[0] <=  1: return False\n",
    "    if not(99 <= sol[1] <= 299 and sol[1]%2!=0): return False\n",
    "    if not  0 <= sol[2] <= 20: return False\n",
    "    if not( 3 <= sol[3] <=  7 and sol[3]%2!=0): return False\n",
    "    if not  0 <= sol[4] <=  2: return False\n",
    "    if not  0 <= sol[5] <=  5: return False\n",
    "    if not  0 <= sol[6] <=  2: return False\n",
    "    if not 15 <= sol[7] <= 50: return False\n",
    "    return True\n",
    "\n",
    "#Função que gera todos os vizinhos de um estado\n",
    "#   Na minha definição, um vizinho é um estado com uma adição ou subtração em um dos parâmetros,\n",
    "#   desde que essa operação gere um estado válido de acordo com a função acima\n",
    "def vizinhanca(sol):\n",
    "    vizinhos = []\n",
    "    for p in range(len(sol)):\n",
    "        vizinho = sol.copy()\n",
    "        if p==1:\n",
    "            vizinho[p]+=6\n",
    "            if checkRange(vizinho): vizinhos.append(vizinho.copy())\n",
    "            vizinho[p]-=12\n",
    "            if checkRange(vizinho): vizinhos.append(vizinho.copy())\n",
    "        elif p==3: \n",
    "            vizinho[p]+=2\n",
    "            if checkRange(vizinho): vizinhos.append(vizinho.copy())\n",
    "            vizinho[p]-=4\n",
    "            if checkRange(vizinho): vizinhos.append(vizinho.copy())\n",
    "        else:\n",
    "            vizinho[p]+=1\n",
    "            if checkRange(vizinho): vizinhos.append(vizinho.copy())\n",
    "            vizinho[p]-=2\n",
    "            if checkRange(vizinho): vizinhos.append(vizinho.copy())\n",
    "    return vizinhos"
   ]
  },
  {
   "cell_type": "code",
   "execution_count": 11,
   "metadata": {},
   "outputs": [
    {
     "name": "stdout",
     "output_type": "stream",
     "text": [
      "[1, 133, 11, 3, 1, 5, 2, 46]\n"
     ]
    },
    {
     "data": {
      "text/plain": [
       "True"
      ]
     },
     "execution_count": 11,
     "metadata": {},
     "output_type": "execute_result"
    }
   ],
   "source": [
    "#Função que gera estado aleatório dentro das restrições\n",
    "import random\n",
    "def randomState():\n",
    "    p0 = np.random.randint(2)\n",
    "    p1 = random.randrange(99, 299+1, 2)\n",
    "    p2 = np.random.randint(21)\n",
    "    p3 = random.randrange(3, 7+1, 2)\n",
    "    p4 = np.random.randint(3)\n",
    "    p5 = np.random.randint(6)\n",
    "    p6 = np.random.randint(3)\n",
    "    p7 = np.random.randint(15,51)\n",
    "    return [p0,p1,p2,p3,p4,p5,p6,p7]\n",
    "s0 = randomState()\n",
    "print(s0)\n",
    "checkRange(s0)"
   ]
  },
  {
   "cell_type": "code",
   "execution_count": 12,
   "metadata": {
    "scrolled": true
   },
   "outputs": [
    {
     "name": "stdout",
     "output_type": "stream",
     "text": [
      "1584848072.6307642\n",
      "[16, 8, 251] 91.66666666666667\n",
      "runtime 0.32362890243530273 seconds\n"
     ]
    }
   ],
   "source": [
    "#Teste de tempo\n",
    "start_time = time.time()\n",
    "print(start_time)\n",
    "costFunction(None,show=True)\n",
    "end_time = time.time()\n",
    "print(\"runtime\", end_time-start_time, \"seconds\")"
   ]
  },
  {
   "cell_type": "code",
   "execution_count": 13,
   "metadata": {},
   "outputs": [],
   "source": [
    "#Função principal adaptada do site do professor Denis da disciplina Inteligência Artificial\n",
    "#   Na função original, apenas um dos vizinhos, escolhido aleatóriamente,\n",
    "#   era avaliado pela função de custo. Nesta versão, todos são avaliados e o melhor é escolhido.\n",
    "#   Esta função também calcula o tempo gasto em sua execução.\n",
    "import time\n",
    "from datetime import datetime\n",
    "\n",
    "def SimulatedAnnealing(s):\n",
    "    print(\"current Time\", datetime.now().strftime(\"%H:%M:%S\"))\n",
    "    start_time = time.time()\n",
    "    T = 10000\n",
    "    epslon = 1e-3\n",
    "    factor = 0.95\n",
    "    \n",
    "    counter = 0\n",
    "    t = T\n",
    "    while t > epslon:\n",
    "        t = t*factor\n",
    "        counter +=1\n",
    "    print(\"iterations\", counter)\n",
    "    print(\"estimated runtime\", (counter*0.32*len(s)*2)/60, \"minutes\")\n",
    "    \n",
    "    fs = costFunction(s)\n",
    "    \n",
    "    while T > epslon:\n",
    "        vizinhos = vizinhanca(s0)\n",
    "        #vi = np.random.choice(len(vizinhos))\n",
    "        #v  = vizinhos[vi]\n",
    "        fv_best = 1000\n",
    "        for v in vizinhos:\n",
    "            fv = costFunction(v)\n",
    "            if fv<fv_best:\n",
    "                fv_best = fv\n",
    "                v_best  = v\n",
    "        v = v_best\n",
    "        fv = fv_best\n",
    "\n",
    "        if fv < fs or np.random.random() <= np.exp( (fs-fv)/T ):\n",
    "            s, fs = v, fv\n",
    "        T = T*factor\n",
    "    \n",
    "    end_time = time.time()\n",
    "    print(\"runtime\", (end_time-start_time)/60, \"minutes\")\n",
    "    return s"
   ]
  },
  {
   "cell_type": "code",
   "execution_count": 331,
   "metadata": {},
   "outputs": [
    {
     "name": "stdout",
     "output_type": "stream",
     "text": [
      "current Time 23:46:38\n",
      "iterations 315\n",
      "estimated runtime 26.88 minutes\n",
      "runtime 19.839790697892507 minutes\n",
      "[102, 46, 18] 55.333333333333336\n",
      "[0, 281, 14, 5, 0, 1, 2, 40] [0, 281, 14, 7, 0, 1, 2, 40] 55.333333333333336\n"
     ]
    }
   ],
   "source": [
    "#Simulação final\n",
    "\n",
    "#s0 = [0,199,3,3,0,3,0,20]\n",
    "s0 = randomState()\n",
    "s = SimulatedAnnealing(s0)       \n",
    "print(s0, s, costFunction(s,show=True))"
   ]
  },
  {
   "cell_type": "code",
   "execution_count": 196,
   "metadata": {},
   "outputs": [],
   "source": [
    "#Resultados preliminares\n",
    "\n",
    "#[102, 46, 18] 55.333333333333336\n",
    "#[0, 281, 14, 5, 0, 1, 2, 40] [0, 281, 14, 7, 0, 1, 2, 40] 55.333333333333336\n",
    "\n",
    "#[11, 2, 24] 12.333333333333334\n",
    "#[1, 191, 2, 5, 0, 2, 0, 41] [1, 191, 3, 5, 0, 2, 0, 41] 12.333333333333334\n",
    "\n",
    "#[0, 201, 5, 7, 1, 3, 1, 18] [0, 201, 5, 7, 0, 3, 1, 18] 69.33333333333333\n",
    "\n",
    "#[0, 199, 3, 3, 0, 3, 0,20] [0, 199, 3, 5, 0, 3, 0, 20] 26.666666666666668"
   ]
  },
  {
   "cell_type": "code",
   "execution_count": 19,
   "metadata": {},
   "outputs": [
    {
     "name": "stdout",
     "output_type": "stream",
     "text": [
      "[11, 2, 24] 12.333333333333334\n",
      "[1, 191, 3, 5, 0, 2, 0, 41] 12.333333333333334\n",
      "181\n"
     ]
    }
   ],
   "source": [
    "#teste\n",
    "s = [1, 191, 3, 5, 0, 2, 0, 41]\n",
    "print(s, costFunction(s,show=True))\n",
    "img_out,_,_,_,result = processing(images[2],s)\n",
    "print(result)"
   ]
  }
 ],
 "metadata": {
  "kernelspec": {
   "display_name": "Python 3",
   "language": "python",
   "name": "python3"
  },
  "language_info": {
   "codemirror_mode": {
    "name": "ipython",
    "version": 3
   },
   "file_extension": ".py",
   "mimetype": "text/x-python",
   "name": "python",
   "nbconvert_exporter": "python",
   "pygments_lexer": "ipython3",
   "version": "3.7.6"
  }
 },
 "nbformat": 4,
 "nbformat_minor": 2
}
